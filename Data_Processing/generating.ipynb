{
 "cells": [
  {
   "cell_type": "code",
   "execution_count": 1,
   "metadata": {},
   "outputs": [],
   "source": [
    "import librosa\n",
    "import numpy as np\n",
    "import os\n",
    "from ourLTFATStft import LTFATStft\n",
    "import ltfatpy\n",
    "import imageio\n",
    "import math\n",
    "fft_hop_size = 128\n",
    "fft_window_length = 512\n",
    "clipBelow = -10\n",
    "anStftWrapper = LTFATStft()"
   ]
  },
  {
   "cell_type": "code",
   "execution_count": 2,
   "metadata": {},
   "outputs": [],
   "source": [
    "sampling_fre = 16000\n",
    "imagesize = 128\n",
    "trunk_step = 16\n",
    "data_root = \"./timit/TIMIT/TRAIN/\"\n",
    "outroot = \"./timit_mel_16k_train_8bit/\"\n",
    "count = 0\n",
    "phase = \"train\"\n",
    "n_mels=128\n",
    "mel_matrix = librosa.filters.mel(sr=16000,n_fft=512,n_mels=128)\n",
    "if not os.path.exists(outroot):\n",
    "    os.mkdir(outroot)\n",
    "for root,dirs,files in os.walk(data_root):\n",
    "    for name in files:\n",
    "        if os.path.splitext(name)[1]==\".wav\":\n",
    "            audio,sr = librosa.core.load(os.path.join(root,name),sr=sampling_fre,mono=False)\n",
    "            count +=1\n",
    "            audio = audio-np.mean(audio)\n",
    "            audio = audio/np.max(np.abs(audio.flatten()))\n",
    "            audio = audio.astype(np.float64)\n",
    "            real_DGT = anStftWrapper.oneSidedStft(signal=audio,windowLength=fft_window_length,hopSize=fft_hop_size)\n",
    "            mag = np.abs(real_DGT)\n",
    "            mag = np.dot(mel_matrix,mag)\n",
    "            mag = mag/np.max(mag.flatten())\n",
    "            mag = np.log(np.clip(mag,a_min=np.exp(clipBelow),a_max=None))\n",
    "            mag = mag/(-1*clipBelow)+1\n",
    "            if phase == \"train\":\n",
    "                for i in range((mag.shape[1]-imagesize)//trunk_step):\n",
    "                    slice_mag = mag[:,i*trunk_step:(i+1)*trunk_step+imagesize]\n",
    "                    ##slice_mag_ = np.round(slice_mag[0:n_mels,:]*65535)\n",
    "                    slice_mag_ = np.round(slice_mag[0:n_mels,:]*255)\n",
    "                    root_ = root[14:].replace(\"/\",\"_\")\n",
    "                    filename = os.path.join(outroot,root_+\"_\"+name+str(i)+\".png\")\n",
    "                    ##imageio.imwrite(filename,slice_mag_.astype(np.uint16))\n",
    "                    imageio.imwrite(filename,slice_mag_.astype(np.uint8))\n",
    "            elif phase == \"test\":\n",
    "                for i in range(math.ceil(mag.shape[1]/imagesize)):\n",
    "                    if (i+1)*imagesize<= mag.shape[1]:\n",
    "                        slice_mag = mag[:,i*imagesize:(i+1)*imagesize]\n",
    "                    else:\n",
    "                        slice_mag = mag[:,i*imagesize:]\n",
    "                        slice_mag = np.pad(slice_mag,(0,imagesize-slice_mag.shape[1]),'constant')\n",
    "                    ##slice_mag_ = np.round(slice_mag[0:n_mels,:]*65535)\n",
    "                    slice_mag_ = np.round(slice_mag[0:n_mels,:]*255)\n",
    "                    root_ = root[14:].replace(\"/\",\"_\")\n",
    "                    filename = os.path.join(outroot,root_+\"_\"+name+str(i)+\".png\")\n",
    "                    ##imageio.imwrite(filename,slice_mag_.astype(np.uint16))\n",
    "                    imageio.imwrite(filename,slice_mag_.astype(np.uint8))"
   ]
  },
  {
   "cell_type": "code",
   "execution_count": 4,
   "metadata": {},
   "outputs": [],
   "source": [
    "sampling_fre = 16000\n",
    "imagesize = 128\n",
    "trunk_step = 8\n",
    "data_root = \"./timit/TIMIT/TEST/DR1/FJEM0/SI634.wav\"\n",
    "outroot = \"./timit_mel_16k_test/\"\n",
    "count = 0\n",
    "phase = \"test\"\n",
    "n_mels=128\n",
    "mel_matrix = librosa.filters.mel(sr=16000,n_fft=512,n_mels=128)\n",
    "audio,sr = librosa.core.load(data_root,sr=sampling_fre,mono=False)\n",
    "count +=1\n",
    "audio = audio-np.mean(audio)\n",
    "audio = audio/np.max(np.abs(audio.flatten()))\n",
    "audio = audio.astype(np.float64)\n",
    "real_DGT = anStftWrapper.oneSidedStft(signal=audio,windowLength=fft_window_length,hopSize=fft_hop_size)\n",
    "mag = np.abs(real_DGT)\n",
    "mag = np.dot(mel_matrix,mag)"
   ]
  },
  {
   "cell_type": "code",
   "execution_count": null,
   "metadata": {},
   "outputs": [],
   "source": []
  },
  {
   "cell_type": "code",
   "execution_count": null,
   "metadata": {},
   "outputs": [],
   "source": []
  },
  {
   "cell_type": "code",
   "execution_count": null,
   "metadata": {},
   "outputs": [],
   "source": []
  }
 ],
 "metadata": {
  "kernelspec": {
   "display_name": "Python 3",
   "language": "python",
   "name": "python3"
  },
  "language_info": {
   "codemirror_mode": {
    "name": "ipython",
    "version": 3
   },
   "file_extension": ".py",
   "mimetype": "text/x-python",
   "name": "python",
   "nbconvert_exporter": "python",
   "pygments_lexer": "ipython3",
   "version": "3.7.3"
  }
 },
 "nbformat": 4,
 "nbformat_minor": 2
}
